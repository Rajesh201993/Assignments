{
 "cells": [
  {
   "cell_type": "markdown",
   "id": "6c749925",
   "metadata": {},
   "source": [
    "1. In the below elements which of them are values or an expression? eg:- values can be\n",
    "integer or string and expressions will be mathematical operators.\n",
    "\n",
    "'*'\n",
    "\n",
    "&#39;hello&#39;\n",
    "\n",
    "-87.8\n",
    "\n",
    "-\n",
    "\n",
    "/\n",
    "\n",
    "+\n",
    "\n",
    "6"
   ]
  },
  {
   "cell_type": "markdown",
   "id": "d6009e64",
   "metadata": {},
   "source": [
    "**Ans : Here 'hello' , -87.8, 6 are values and (*, - , / ,+) are expressions**"
   ]
  },
  {
   "cell_type": "markdown",
   "id": "19ed4891",
   "metadata": {},
   "source": [
    "2. What is the difference between string and variable?\n",
    "\n",
    "\n",
    "**Stirng is sequence of characters for example \"1234\", \"Ineuron\", \"True\"**\n",
    "**And variable is storage location which stores the different type of values like integers, strings and boolean etc, And below are some examples of variables which hold different kind of values**"
   ]
  },
  {
   "cell_type": "code",
   "execution_count": 6,
   "id": "53a3949a",
   "metadata": {},
   "outputs": [
    {
     "data": {
      "text/plain": [
       "True"
      ]
     },
     "execution_count": 6,
     "metadata": {},
     "output_type": "execute_result"
    }
   ],
   "source": [
    "_a = True\n",
    "_a\n"
   ]
  },
  {
   "cell_type": "code",
   "execution_count": 7,
   "id": "062c527b",
   "metadata": {},
   "outputs": [
    {
     "data": {
      "text/plain": [
       "bool"
      ]
     },
     "execution_count": 7,
     "metadata": {},
     "output_type": "execute_result"
    }
   ],
   "source": [
    "type(_a)\n"
   ]
  },
  {
   "cell_type": "code",
   "execution_count": 8,
   "id": "1f3df116",
   "metadata": {},
   "outputs": [
    {
     "data": {
      "text/plain": [
       "'True'"
      ]
     },
     "execution_count": 8,
     "metadata": {},
     "output_type": "execute_result"
    }
   ],
   "source": [
    "b=\"True\"\n",
    "b\n"
   ]
  },
  {
   "cell_type": "code",
   "execution_count": 9,
   "id": "34e2f7a6",
   "metadata": {},
   "outputs": [
    {
     "data": {
      "text/plain": [
       "str"
      ]
     },
     "execution_count": 9,
     "metadata": {},
     "output_type": "execute_result"
    }
   ],
   "source": [
    "type(b)\n"
   ]
  },
  {
   "cell_type": "code",
   "execution_count": 10,
   "id": "dcf10e90",
   "metadata": {},
   "outputs": [
    {
     "data": {
      "text/plain": [
       "1234"
      ]
     },
     "execution_count": 10,
     "metadata": {},
     "output_type": "execute_result"
    }
   ],
   "source": [
    "c = 1234\n",
    "c"
   ]
  },
  {
   "cell_type": "code",
   "execution_count": 11,
   "id": "5390c1b8",
   "metadata": {},
   "outputs": [
    {
     "data": {
      "text/plain": [
       "int"
      ]
     },
     "execution_count": 11,
     "metadata": {},
     "output_type": "execute_result"
    }
   ],
   "source": [
    "type(c)\n"
   ]
  },
  {
   "cell_type": "code",
   "execution_count": 12,
   "id": "2173ae29",
   "metadata": {},
   "outputs": [
    {
     "data": {
      "text/plain": [
       "45.6"
      ]
     },
     "execution_count": 12,
     "metadata": {},
     "output_type": "execute_result"
    }
   ],
   "source": [
    "myValue =45.6\n",
    "myValue\n"
   ]
  },
  {
   "cell_type": "code",
   "execution_count": 13,
   "id": "520f196a",
   "metadata": {},
   "outputs": [
    {
     "data": {
      "text/plain": [
       "float"
      ]
     },
     "execution_count": 13,
     "metadata": {},
     "output_type": "execute_result"
    }
   ],
   "source": [
    "type(myValue)\n"
   ]
  },
  {
   "cell_type": "code",
   "execution_count": 14,
   "id": "465c250d",
   "metadata": {},
   "outputs": [],
   "source": [
    "Fvalue =2+6j\n"
   ]
  },
  {
   "cell_type": "code",
   "execution_count": 15,
   "id": "d10e695b",
   "metadata": {},
   "outputs": [
    {
     "data": {
      "text/plain": [
       "complex"
      ]
     },
     "execution_count": 15,
     "metadata": {},
     "output_type": "execute_result"
    }
   ],
   "source": [
    "type(Fvalue)"
   ]
  },
  {
   "cell_type": "markdown",
   "id": "99f2dc58",
   "metadata": {},
   "source": [
    "3. Describe three different data types.\n",
    "\n",
    "**Integer,\n",
    "String,\n",
    "boolean,\n",
    "complex**"
   ]
  },
  {
   "cell_type": "code",
   "execution_count": 16,
   "id": "ef422bdc",
   "metadata": {},
   "outputs": [
    {
     "name": "stdout",
     "output_type": "stream",
     "text": [
      "Object `do` not found.\n"
     ]
    }
   ],
   "source": [
    "4. What is an expression made up of? What do all expressions do?"
   ]
  },
  {
   "cell_type": "markdown",
   "id": "8a8da741",
   "metadata": {},
   "source": [
    "4. What is an expression made up of? What do all expressions do\n",
    "\n",
    "**Expressions are made up with diffrent values , variables, datatypes , operators. Expression can executes the logic which we are configured to resulting some value which we are expected**"
   ]
  },
  {
   "cell_type": "markdown",
   "id": "5e944f76",
   "metadata": {},
   "source": [
    "5. This assignment statements, like spam = 10. What is the difference between an\n",
    "expression and a statement?\n",
    "\n",
    "**Expression are used to produce values and statements are used to perform specific actions**"
   ]
  },
  {
   "cell_type": "markdown",
   "id": "f8941cac",
   "metadata": {},
   "source": [
    "6. After running the following code, what does the variable bacon contain?\n",
    "bacon = 22\n",
    "bacon + 1"
   ]
  },
  {
   "cell_type": "code",
   "execution_count": 17,
   "id": "656ac384",
   "metadata": {},
   "outputs": [],
   "source": [
    "bacon =22"
   ]
  },
  {
   "cell_type": "code",
   "execution_count": 18,
   "id": "71d12db8",
   "metadata": {},
   "outputs": [
    {
     "data": {
      "text/plain": [
       "23"
      ]
     },
     "execution_count": 18,
     "metadata": {},
     "output_type": "execute_result"
    }
   ],
   "source": [
    "bacon+1"
   ]
  },
  {
   "cell_type": "code",
   "execution_count": 19,
   "id": "7a4e787b",
   "metadata": {},
   "outputs": [
    {
     "name": "stdout",
     "output_type": "stream",
     "text": [
      "Object `be` not found.\n"
     ]
    },
    {
     "data": {
      "text/plain": [
       "'spamspamspam'"
      ]
     },
     "execution_count": 19,
     "metadata": {},
     "output_type": "execute_result"
    }
   ],
   "source": [
    "7. What should the values of the following two terms be?\n",
    "'spam' + 'spamspam'\n",
    "'spam' * 3"
   ]
  },
  {
   "cell_type": "code",
   "execution_count": 20,
   "id": "32b4df0e",
   "metadata": {},
   "outputs": [
    {
     "data": {
      "text/plain": [
       "'spamspamspam'"
      ]
     },
     "execution_count": 20,
     "metadata": {},
     "output_type": "execute_result"
    }
   ],
   "source": [
    "'spam' + 'spamspam'"
   ]
  },
  {
   "cell_type": "code",
   "execution_count": 21,
   "id": "a5544f85",
   "metadata": {},
   "outputs": [
    {
     "data": {
      "text/plain": [
       "'spamspamspam'"
      ]
     },
     "execution_count": 21,
     "metadata": {},
     "output_type": "execute_result"
    }
   ],
   "source": [
    "'spam' * 3"
   ]
  },
  {
   "cell_type": "markdown",
   "id": "15402d82",
   "metadata": {},
   "source": [
    "8. Why is eggs a valid variable name while 100 is invalid?\n",
    "\n",
    "**variable name should not be like starts with integer**"
   ]
  },
  {
   "cell_type": "markdown",
   "id": "ae969c2a",
   "metadata": {},
   "source": [
    "9. What three functions can be used to get the integer, floating-point number, or string\n",
    "version of a value?"
   ]
  },
  {
   "cell_type": "code",
   "execution_count": 23,
   "id": "bb468598",
   "metadata": {},
   "outputs": [
    {
     "data": {
      "text/plain": [
       "123"
      ]
     },
     "execution_count": 23,
     "metadata": {},
     "output_type": "execute_result"
    }
   ],
   "source": [
    "#To convert string into integer \n",
    "int('123')"
   ]
  },
  {
   "cell_type": "code",
   "execution_count": 24,
   "id": "02c85678",
   "metadata": {},
   "outputs": [
    {
     "data": {
      "text/plain": [
       "123.0"
      ]
     },
     "execution_count": 24,
     "metadata": {},
     "output_type": "execute_result"
    }
   ],
   "source": [
    "#To convert float to integer\n",
    "float(123)"
   ]
  },
  {
   "cell_type": "code",
   "execution_count": 25,
   "id": "a49ad154",
   "metadata": {},
   "outputs": [
    {
     "data": {
      "text/plain": [
       "'123'"
      ]
     },
     "execution_count": 25,
     "metadata": {},
     "output_type": "execute_result"
    }
   ],
   "source": [
    "#To convert int to string\n",
    "str(123)"
   ]
  },
  {
   "cell_type": "code",
   "execution_count": null,
   "id": "0aedd288",
   "metadata": {},
   "outputs": [],
   "source": []
  }
 ],
 "metadata": {
  "kernelspec": {
   "display_name": "Python 3 (ipykernel)",
   "language": "python",
   "name": "python3"
  },
  "language_info": {
   "codemirror_mode": {
    "name": "ipython",
    "version": 3
   },
   "file_extension": ".py",
   "mimetype": "text/x-python",
   "name": "python",
   "nbconvert_exporter": "python",
   "pygments_lexer": "ipython3",
   "version": "3.9.7"
  }
 },
 "nbformat": 4,
 "nbformat_minor": 5
}
